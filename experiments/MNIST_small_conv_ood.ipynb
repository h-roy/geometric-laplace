{
 "cells": [
  {
   "cell_type": "code",
   "execution_count": 1,
   "metadata": {},
   "outputs": [
    {
     "ename": "ImportError",
     "evalue": "cannot import name 'mse_loss' from 'src.losses' (/work3/hroy/geometric-laplace/src/losses.py)",
     "output_type": "error",
     "traceback": [
      "\u001b[0;31m---------------------------------------------------------------------------\u001b[0m",
      "\u001b[0;31mImportError\u001b[0m                               Traceback (most recent call last)",
      "Cell \u001b[0;32mIn[1], line 13\u001b[0m\n\u001b[1;32m     11\u001b[0m \u001b[38;5;28;01mfrom\u001b[39;00m \u001b[38;5;21;01mjax\u001b[39;00m \u001b[38;5;28;01mimport\u001b[39;00m random, jit\n\u001b[1;32m     12\u001b[0m \u001b[38;5;28;01mimport\u001b[39;00m \u001b[38;5;21;01mpickle\u001b[39;00m\n\u001b[0;32m---> 13\u001b[0m \u001b[38;5;28;01mfrom\u001b[39;00m \u001b[38;5;21;01msrc\u001b[39;00m\u001b[38;5;21;01m.\u001b[39;00m\u001b[38;5;21;01mlosses\u001b[39;00m \u001b[38;5;28;01mimport\u001b[39;00m mse_loss, accuracy_preds, nll\n\u001b[1;32m     14\u001b[0m \u001b[38;5;28;01mfrom\u001b[39;00m \u001b[38;5;21;01msrc\u001b[39;00m\u001b[38;5;21;01m.\u001b[39;00m\u001b[38;5;21;01mhelper\u001b[39;00m \u001b[38;5;28;01mimport\u001b[39;00m calculate_exact_ggn, tree_random_normal_like\n\u001b[1;32m     15\u001b[0m \u001b[38;5;28;01mfrom\u001b[39;00m \u001b[38;5;21;01msrc\u001b[39;00m\u001b[38;5;21;01m.\u001b[39;00m\u001b[38;5;21;01msampling\u001b[39;00m\u001b[38;5;21;01m.\u001b[39;00m\u001b[38;5;21;01mpredictive_samplers\u001b[39;00m \u001b[38;5;28;01mimport\u001b[39;00m sample_predictive, sample_hessian_predictive\n",
      "\u001b[0;31mImportError\u001b[0m: cannot import name 'mse_loss' from 'src.losses' (/work3/hroy/geometric-laplace/src/losses.py)"
     ]
    }
   ],
   "source": [
    "import time\n",
    "import argparse\n",
    "import jax\n",
    "import matplotlib.pyplot as plt\n",
    "import optax\n",
    "import matfree\n",
    "import tree_math as tm\n",
    "from flax import linen as nn\n",
    "from jax import nn as jnn\n",
    "from jax import numpy as jnp\n",
    "from jax import random, jit\n",
    "import pickle\n",
    "from src.losses import mse_loss, accuracy_preds, nll\n",
    "from src.helper import calculate_exact_ggn, tree_random_normal_like\n",
    "from src.sampling.predictive_samplers import sample_predictive, sample_hessian_predictive\n",
    "from jax import flatten_util\n",
    "import matplotlib.pyplot as plt\n",
    "\n",
    "import torch\n",
    "from src.data.torch_datasets import MNIST, numpy_collate_fn"
   ]
  },
  {
   "cell_type": "markdown",
   "metadata": {},
   "source": [
    "## Train ConvNet"
   ]
  },
  {
   "cell_type": "code",
   "execution_count": 2,
   "metadata": {},
   "outputs": [],
   "source": [
    "train_samples = 10#1000\n",
    "train_samples = 300#1000\n",
    "classes_train = [0,1,2,3,4,5,6,7,8,9]\n",
    "n_classes = 10\n",
    "batch_size = 256#20\n",
    "test_batch_size = 256\n",
    "\n",
    "data_train = MNIST(path_root= \"/work3/hroy/data/\",\n",
    "            train=True, n_samples=train_samples if train_samples > 0 else None, cls=classes_train\n",
    "        )\n",
    "data_test = MNIST(path_root = \"/work3/hroy/data/\", train=False, cls=classes_train)\n",
    "\n",
    "if train_samples > 0:\n",
    "    N = train_samples * n_classes\n",
    "else:\n",
    "    N = len(data_train)\n",
    "N_test = len(data_test)\n",
    "if test_batch_size > 0:\n",
    "    test_batch_size = test_batch_size\n",
    "else:\n",
    "    test_batch_size = len(data_test)\n",
    "\n",
    "n_test_batches = int(N_test / test_batch_size)\n",
    "n_batches = int(N / batch_size)\n",
    "\n",
    "train_loader = torch.utils.data.DataLoader(\n",
    "    data_train, batch_size=batch_size, shuffle=True, collate_fn=numpy_collate_fn, drop_last=True,\n",
    ")\n",
    "\n",
    "valid_loader = torch.utils.data.DataLoader(\n",
    "    data_test, batch_size=test_batch_size, shuffle=True, collate_fn=numpy_collate_fn, drop_last=True,\n",
    ")"
   ]
  },
  {
   "cell_type": "code",
   "execution_count": 3,
   "metadata": {},
   "outputs": [],
   "source": [
    "class ConvNet(nn.Module):\n",
    "    output_dim: int = 10\n",
    "\n",
    "    @nn.compact\n",
    "    def __call__(self, x):\n",
    "        if len(x.shape) != 4:\n",
    "            x = jnp.expand_dims(x, 0)\n",
    "        x = jnp.transpose(x, (0, 2, 3, 1))\n",
    "        x = nn.Conv(features=4, kernel_size=(3, 3), strides=(2, 2), padding=1)(x)\n",
    "        x = nn.tanh(x)\n",
    "        x = nn.max_pool(x, window_shape=(2, 2), strides=(2, 2))\n",
    "        x = nn.Conv(features=4, kernel_size=(3, 3), strides=(2, 2), padding=1)(x)\n",
    "        x = nn.tanh(x)\n",
    "        x = nn.max_pool(x, window_shape=(2, 2), strides=(2, 2))\n",
    "        x = x.reshape((x.shape[0], -1))\n",
    "        return nn.Dense(features=self.output_dim)(x)\n",
    "\n",
    "def compute_num_params(pytree):\n",
    "    return sum(x.size if hasattr(x, \"size\") else 0 for x in jax.tree_util.tree_leaves(pytree))\n",
    "\n",
    "\n",
    "model = ConvNet()\n",
    "batch = next(iter(train_loader))\n",
    "x_init, y_init = batch[\"image\"], batch[\"label\"]\n",
    "output_dim = y_init.shape[-1]\n",
    "key, split_key = random.split(jax.random.PRNGKey(0))\n",
    "params = model.init(key, x_init)\n",
    "alpha = 1.\n",
    "optim = optax.chain(\n",
    "        optax.clip(1.),\n",
    "        getattr(optax, \"adam\")(1e-2),\n",
    "    )\n",
    "opt_state = optim.init(params)\n",
    "n_params = compute_num_params(params)\n",
    "n_epochs = 100"
   ]
  },
  {
   "cell_type": "code",
   "execution_count": 4,
   "metadata": {},
   "outputs": [],
   "source": [
    "def cross_entropy_loss(preds, y, rho=1.0):\n",
    "    \"\"\"\n",
    "    preds: (n_samples, n_classes) (logits)\n",
    "    y: (n_samples, n_classes) (one-hot labels)\n",
    "    \"\"\"\n",
    "    preds = preds * rho\n",
    "    preds = jax.nn.log_softmax(preds, axis=-1)\n",
    "    return -jnp.sum(jnp.sum(preds * y, axis=-1))\n",
    "\n",
    "def accuracy(params, model, batch_x, batch_y):\n",
    "    preds = model.apply(params, batch_x)\n",
    "    return jnp.sum(preds.argmax(axis=-1) == batch_y.argmax(axis=-1))\n",
    "\n",
    "\n",
    "def map_loss(\n",
    "    params,\n",
    "    model,\n",
    "    x_batch,\n",
    "    y_batch,\n",
    "    alpha,\n",
    "    n_params: int,\n",
    "    N_datapoints_max: int,\n",
    "):\n",
    "    # define dict for logging purposes\n",
    "    B = x_batch.shape[0]\n",
    "    O = y_batch.shape[-1]\n",
    "    D = n_params\n",
    "    N = N_datapoints_max\n",
    "\n",
    "    # hessian_scaler = 1\n",
    "\n",
    "    vparams = tm.Vector(params)\n",
    "\n",
    "    rho = 1.\n",
    "    nll = lambda x, y, rho: 1/B * cross_entropy_loss(x, y, rho)\n",
    "\n",
    "    y_pred = model.apply(params, x_batch)\n",
    "\n",
    "    loglike_loss = nll(y_pred, y_batch, rho) #* hessian_scaler\n",
    "\n",
    "    log_prior_term = -D / 2 * jnp.log(2 * jnp.pi) - (1 / 2) * alpha * (vparams @ vparams) + D / 2 * jnp.log(alpha)\n",
    "    # log_det_term = 0\n",
    "    loss = loglike_loss - 0. * log_prior_term\n",
    "\n",
    "    return loss\n",
    "\n",
    "def make_step(params, alpha, opt_state, x, y):\n",
    "    grad_fn = jax.value_and_grad(map_loss, argnums=0, has_aux=False)\n",
    "    loss, grads = grad_fn(params, model, x, y, alpha, n_params, N)\n",
    "    param_updates, opt_state = optim.update(grads, opt_state)\n",
    "    params = optax.apply_updates(params, param_updates)\n",
    "    return loss, params, opt_state\n",
    "\n",
    "jit_make_step = jit(make_step)\n",
    "\n"
   ]
  },
  {
   "cell_type": "code",
   "execution_count": 5,
   "metadata": {},
   "outputs": [
    {
     "name": "stdout",
     "output_type": "stream",
     "text": [
      "epoch=1, loss=25.162, , accuracy=0.17, alpha=1.00, time=1.506s\n",
      "epoch=2, loss=23.608, , accuracy=0.25, alpha=1.00, time=0.348s\n",
      "epoch=3, loss=21.387, , accuracy=0.45, alpha=1.00, time=0.351s\n",
      "epoch=4, loss=18.559, , accuracy=0.53, alpha=1.00, time=0.345s\n",
      "epoch=5, loss=15.972, , accuracy=0.57, alpha=1.00, time=0.346s\n",
      "epoch=6, loss=13.639, , accuracy=0.64, alpha=1.00, time=0.349s\n",
      "epoch=7, loss=12.058, , accuracy=0.68, alpha=1.00, time=0.346s\n",
      "epoch=8, loss=10.933, , accuracy=0.71, alpha=1.00, time=0.351s\n",
      "epoch=9, loss=10.108, , accuracy=0.73, alpha=1.00, time=0.338s\n",
      "epoch=10, loss=9.513, , accuracy=0.74, alpha=1.00, time=0.339s\n",
      "epoch=11, loss=8.994, , accuracy=0.76, alpha=1.00, time=0.341s\n",
      "epoch=12, loss=8.700, , accuracy=0.76, alpha=1.00, time=0.350s\n",
      "epoch=13, loss=8.272, , accuracy=0.77, alpha=1.00, time=0.346s\n",
      "epoch=14, loss=8.000, , accuracy=0.79, alpha=1.00, time=0.338s\n",
      "epoch=15, loss=7.700, , accuracy=0.78, alpha=1.00, time=0.341s\n",
      "epoch=16, loss=7.675, , accuracy=0.79, alpha=1.00, time=0.345s\n",
      "epoch=17, loss=7.449, , accuracy=0.80, alpha=1.00, time=0.341s\n",
      "epoch=18, loss=7.165, , accuracy=0.81, alpha=1.00, time=0.339s\n",
      "epoch=19, loss=6.999, , accuracy=0.81, alpha=1.00, time=0.351s\n",
      "epoch=20, loss=6.835, , accuracy=0.81, alpha=1.00, time=0.344s\n",
      "epoch=21, loss=6.760, , accuracy=0.81, alpha=1.00, time=0.338s\n",
      "epoch=22, loss=6.568, , accuracy=0.82, alpha=1.00, time=0.352s\n",
      "epoch=23, loss=6.507, , accuracy=0.82, alpha=1.00, time=0.343s\n",
      "epoch=24, loss=6.306, , accuracy=0.82, alpha=1.00, time=0.346s\n",
      "epoch=25, loss=6.293, , accuracy=0.82, alpha=1.00, time=0.341s\n",
      "epoch=26, loss=6.196, , accuracy=0.82, alpha=1.00, time=0.345s\n",
      "epoch=27, loss=6.052, , accuracy=0.83, alpha=1.00, time=0.342s\n",
      "epoch=28, loss=6.089, , accuracy=0.83, alpha=1.00, time=0.343s\n",
      "epoch=29, loss=6.059, , accuracy=0.82, alpha=1.00, time=0.343s\n",
      "epoch=30, loss=5.988, , accuracy=0.83, alpha=1.00, time=0.350s\n",
      "epoch=31, loss=5.828, , accuracy=0.83, alpha=1.00, time=0.344s\n",
      "epoch=32, loss=5.874, , accuracy=0.83, alpha=1.00, time=0.346s\n",
      "epoch=33, loss=5.766, , accuracy=0.83, alpha=1.00, time=0.354s\n",
      "epoch=34, loss=5.730, , accuracy=0.83, alpha=1.00, time=0.339s\n",
      "epoch=35, loss=5.729, , accuracy=0.83, alpha=1.00, time=0.346s\n",
      "epoch=36, loss=5.615, , accuracy=0.84, alpha=1.00, time=0.347s\n",
      "epoch=37, loss=5.610, , accuracy=0.84, alpha=1.00, time=0.343s\n",
      "epoch=38, loss=5.588, , accuracy=0.84, alpha=1.00, time=0.341s\n",
      "epoch=39, loss=5.536, , accuracy=0.84, alpha=1.00, time=0.348s\n",
      "epoch=40, loss=5.495, , accuracy=0.84, alpha=1.00, time=0.354s\n",
      "epoch=41, loss=5.377, , accuracy=0.84, alpha=1.00, time=0.350s\n",
      "epoch=42, loss=5.414, , accuracy=0.84, alpha=1.00, time=0.339s\n",
      "epoch=43, loss=5.323, , accuracy=0.85, alpha=1.00, time=0.343s\n",
      "epoch=44, loss=5.293, , accuracy=0.85, alpha=1.00, time=0.348s\n",
      "epoch=45, loss=5.170, , accuracy=0.85, alpha=1.00, time=0.342s\n",
      "epoch=46, loss=5.246, , accuracy=0.85, alpha=1.00, time=0.342s\n",
      "epoch=47, loss=5.217, , accuracy=0.85, alpha=1.00, time=0.347s\n",
      "epoch=48, loss=5.169, , accuracy=0.85, alpha=1.00, time=0.340s\n",
      "epoch=49, loss=5.054, , accuracy=0.86, alpha=1.00, time=0.340s\n",
      "epoch=50, loss=5.179, , accuracy=0.85, alpha=1.00, time=0.343s\n",
      "epoch=51, loss=5.240, , accuracy=0.85, alpha=1.00, time=0.339s\n",
      "epoch=52, loss=5.027, , accuracy=0.85, alpha=1.00, time=0.340s\n",
      "epoch=53, loss=5.040, , accuracy=0.86, alpha=1.00, time=0.347s\n",
      "epoch=54, loss=4.898, , accuracy=0.86, alpha=1.00, time=0.365s\n",
      "epoch=55, loss=4.978, , accuracy=0.86, alpha=1.00, time=0.336s\n",
      "epoch=56, loss=4.984, , accuracy=0.86, alpha=1.00, time=0.339s\n",
      "epoch=57, loss=5.056, , accuracy=0.86, alpha=1.00, time=0.340s\n",
      "epoch=58, loss=5.010, , accuracy=0.86, alpha=1.00, time=0.333s\n",
      "epoch=59, loss=4.992, , accuracy=0.85, alpha=1.00, time=0.349s\n",
      "epoch=60, loss=4.884, , accuracy=0.86, alpha=1.00, time=0.337s\n",
      "epoch=61, loss=4.987, , accuracy=0.86, alpha=1.00, time=0.337s\n",
      "epoch=62, loss=4.917, , accuracy=0.86, alpha=1.00, time=0.345s\n",
      "epoch=63, loss=4.813, , accuracy=0.86, alpha=1.00, time=0.339s\n",
      "epoch=64, loss=4.886, , accuracy=0.86, alpha=1.00, time=0.345s\n",
      "epoch=65, loss=4.867, , accuracy=0.86, alpha=1.00, time=0.343s\n",
      "epoch=66, loss=4.875, , accuracy=0.86, alpha=1.00, time=0.344s\n",
      "epoch=67, loss=4.818, , accuracy=0.86, alpha=1.00, time=0.344s\n",
      "epoch=68, loss=4.729, , accuracy=0.86, alpha=1.00, time=0.338s\n",
      "epoch=69, loss=4.843, , accuracy=0.87, alpha=1.00, time=0.339s\n",
      "epoch=70, loss=4.758, , accuracy=0.86, alpha=1.00, time=0.339s\n",
      "epoch=71, loss=4.771, , accuracy=0.86, alpha=1.00, time=0.341s\n",
      "epoch=72, loss=4.763, , accuracy=0.86, alpha=1.00, time=0.340s\n",
      "epoch=73, loss=4.724, , accuracy=0.86, alpha=1.00, time=0.347s\n",
      "epoch=74, loss=4.669, , accuracy=0.86, alpha=1.00, time=0.348s\n",
      "epoch=75, loss=4.816, , accuracy=0.86, alpha=1.00, time=0.346s\n",
      "epoch=76, loss=4.608, , accuracy=0.87, alpha=1.00, time=0.340s\n",
      "epoch=77, loss=4.647, , accuracy=0.87, alpha=1.00, time=0.353s\n",
      "epoch=78, loss=4.640, , accuracy=0.86, alpha=1.00, time=0.343s\n",
      "epoch=79, loss=4.622, , accuracy=0.87, alpha=1.00, time=0.345s\n",
      "epoch=80, loss=4.687, , accuracy=0.87, alpha=1.00, time=0.343s\n",
      "epoch=81, loss=4.622, , accuracy=0.87, alpha=1.00, time=0.346s\n",
      "epoch=82, loss=4.556, , accuracy=0.87, alpha=1.00, time=0.341s\n",
      "epoch=83, loss=4.577, , accuracy=0.87, alpha=1.00, time=0.344s\n",
      "epoch=84, loss=4.541, , accuracy=0.87, alpha=1.00, time=0.347s\n",
      "epoch=85, loss=4.536, , accuracy=0.87, alpha=1.00, time=0.340s\n",
      "epoch=86, loss=4.470, , accuracy=0.88, alpha=1.00, time=0.342s\n",
      "epoch=87, loss=4.442, , accuracy=0.87, alpha=1.00, time=0.340s\n",
      "epoch=88, loss=4.467, , accuracy=0.87, alpha=1.00, time=0.343s\n",
      "epoch=89, loss=4.508, , accuracy=0.87, alpha=1.00, time=0.343s\n",
      "epoch=90, loss=4.462, , accuracy=0.88, alpha=1.00, time=0.337s\n",
      "epoch=91, loss=4.459, , accuracy=0.87, alpha=1.00, time=0.339s\n",
      "epoch=92, loss=4.545, , accuracy=0.87, alpha=1.00, time=0.340s\n",
      "epoch=93, loss=4.438, , accuracy=0.88, alpha=1.00, time=0.341s\n",
      "epoch=94, loss=4.484, , accuracy=0.87, alpha=1.00, time=0.358s\n",
      "epoch=95, loss=4.416, , accuracy=0.88, alpha=1.00, time=0.336s\n",
      "epoch=96, loss=4.401, , accuracy=0.87, alpha=1.00, time=0.339s\n",
      "epoch=97, loss=4.429, , accuracy=0.88, alpha=1.00, time=0.349s\n",
      "epoch=98, loss=4.448, , accuracy=0.88, alpha=1.00, time=0.348s\n",
      "epoch=99, loss=4.387, , accuracy=0.88, alpha=1.00, time=0.362s\n",
      "epoch=100, loss=4.369, , accuracy=0.88, alpha=1.00, time=0.354s\n"
     ]
    }
   ],
   "source": [
    "for epoch in range(1, n_epochs + 1):\n",
    "    epoch_loss = 0\n",
    "    epoch_accuracy = 0\n",
    "    start_time = time.time()\n",
    "    for _, batch in zip(range(n_batches), train_loader):\n",
    "        X = batch[\"image\"]\n",
    "        y = batch[\"label\"]\n",
    "        B = X.shape[0]\n",
    "        train_key, split_key = random.split(split_key)\n",
    "\n",
    "        loss, params, opt_state = jit_make_step(params, alpha, opt_state, X, y)\n",
    "        loss = loss\n",
    "        epoch_loss += loss.item()\n",
    "\n",
    "        epoch_accuracy += accuracy(params, model, X, y).item()\n",
    "\n",
    "    epoch_accuracy /= (n_batches * B)\n",
    "    epoch_time = time.time() - start_time\n",
    "    print(\n",
    "        f\"epoch={epoch}, loss={epoch_loss:.3f}, , accuracy={epoch_accuracy:.2f}, alpha={alpha:.2f}, time={epoch_time:.3f}s\"\n",
    "    )\n"
   ]
  },
  {
   "cell_type": "markdown",
   "metadata": {},
   "source": [
    "## Sampling"
   ]
  },
  {
   "cell_type": "code",
   "execution_count": 6,
   "metadata": {},
   "outputs": [],
   "source": [
    "sampling_train_loader = torch.utils.data.DataLoader(\n",
    "    data_train, batch_size=N, shuffle=True, collate_fn=numpy_collate_fn, drop_last=True,\n",
    ")\n",
    "data = next(iter(sampling_train_loader))\n",
    "x_train = jnp.array(data[\"image\"])\n",
    "y_train = jnp.array(data[\"label\"])\n",
    "sampling_val_loader = torch.utils.data.DataLoader(\n",
    "    data_test, batch_size=N_test, shuffle=True, collate_fn=numpy_collate_fn, drop_last=True,\n",
    ")\n",
    "data = next(iter(sampling_val_loader))\n",
    "x_val = jnp.array(data[\"image\"])\n",
    "y_val = jnp.array(data[\"label\"])\n",
    "\n",
    "sample_key = jax.random.PRNGKey(0)\n",
    "n_posterior_samples = 200\n",
    "num_iterations = 1\n",
    "n_sample_batch_size = 1\n",
    "n_sample_batches = N // n_sample_batch_size"
   ]
  },
  {
   "cell_type": "code",
   "execution_count": 7,
   "metadata": {},
   "outputs": [],
   "source": [
    "from src.sampling.exact_ggn import exact_ggn_laplace\n",
    "from src.sampling.laplace_ode import ode_ggn\n",
    "from src.sampling.lanczos_diffusion import lanczos_diffusion\n"
   ]
  },
  {
   "cell_type": "code",
   "execution_count": 8,
   "metadata": {},
   "outputs": [],
   "source": [
    "_model_fn = lambda params, x: model.apply(params, x[None, ...])[0]\n",
    "ggn = calculate_exact_ggn(cross_entropy_loss, _model_fn, params, x_train[:120], y_train[:120], n_params)\n"
   ]
  },
  {
   "cell_type": "code",
   "execution_count": 9,
   "metadata": {},
   "outputs": [
    {
     "data": {
      "text/plain": [
       "Array(226, dtype=int32)"
      ]
     },
     "execution_count": 9,
     "metadata": {},
     "output_type": "execute_result"
    }
   ],
   "source": [
    "jnp.linalg.matrix_rank(ggn)"
   ]
  },
  {
   "cell_type": "code",
   "execution_count": 10,
   "metadata": {},
   "outputs": [
    {
     "data": {
      "text/plain": [
       "(3000, 1, 28, 28)"
      ]
     },
     "execution_count": 10,
     "metadata": {},
     "output_type": "execute_result"
    }
   ],
   "source": [
    "x_train.shape"
   ]
  },
  {
   "cell_type": "code",
   "execution_count": 11,
   "metadata": {},
   "outputs": [],
   "source": [
    "sample_key = jax.random.PRNGKey(0)\n",
    "model_fn = lambda params, x: model.apply(params, x[None, ...])[0]\n",
    "rank = 10\n",
    "alpha = 1.0\n",
    "n_posterior_samples = 200\n",
    "var = 0.1\n",
    "\n",
    "lr_posterior_samples, posterior_samples, isotropic_posterior_samples = exact_ggn_laplace(cross_entropy_loss, \n",
    "                                                                                         model_fn,\n",
    "                                                                                         params,\n",
    "                                                                                         x_train[:30],\n",
    "                                                                                         y_train[:30],\n",
    "                                                                                         n_params,\n",
    "                                                                                         rank,\n",
    "                                                                                         alpha,\n",
    "                                                                                         n_posterior_samples,\n",
    "                                                                                         sample_key,\n",
    "                                                                                         var,\n",
    "                                                                                         \"all\"\n",
    "                                                                                         )"
   ]
  },
  {
   "cell_type": "code",
   "execution_count": 15,
   "metadata": {},
   "outputs": [],
   "source": [
    "from functools import partial\n",
    "\n",
    "# @partial(jax.jit, static_argnames=['n_data_pts'])\n",
    "def rank_expt(n_data_pts, train_stats=True, mean_acc=True):\n",
    "    sample_key = jax.random.PRNGKey(0)\n",
    "    model_fn = lambda params, x: model.apply(params, x[None, ...])[0]\n",
    "    rank = 100\n",
    "    alpha = 1.0\n",
    "    n_posterior_samples = 200\n",
    "    var = 0.1\n",
    "\n",
    "    lr_posterior_samples, posterior_samples, isotropic_posterior_samples = exact_ggn_laplace(cross_entropy_loss, \n",
    "                                                                   model_fn,\n",
    "                                                                   params,\n",
    "                                                                   x_train[:n_data_pts],\n",
    "                                                                   y_train[:n_data_pts],\n",
    "                                                                   n_params,\n",
    "                                                                   rank,\n",
    "                                                                   alpha,\n",
    "                                                                   n_posterior_samples,\n",
    "                                                                   sample_key,\n",
    "                                                                   var,\n",
    "                                                                   \"all\"\n",
    "                                                                   )\n",
    "    \n",
    "    if train_stats:\n",
    "        n_data_pts = 3000\n",
    "        lr_predictive = sample_predictive(lr_posterior_samples, params, model, x_train[:n_data_pts], False, \"Pytree\")\n",
    "        predictive = sample_predictive(posterior_samples, params, model, x_train[:n_data_pts], False, \"Pytree\")\n",
    "        linearised_predictive = sample_predictive(posterior_samples, params, model, x_train[:n_data_pts], True, \"Pytree\")\n",
    "        isotropic_predictive = sample_predictive(isotropic_posterior_samples, params, model, x_train[:n_data_pts], False, \"Pytree\")\n",
    "        map_acc = accuracy(params, model, x_train[:n_data_pts], y_train[:n_data_pts])/n_data_pts\n",
    "        if mean_acc:\n",
    "            lr_acc = jnp.mean(jax.vmap(accuracy_preds, in_axes=(0,None))(lr_predictive, y_train[:n_data_pts])/n_data_pts)\n",
    "            linearised_acc = jnp.mean(jax.vmap(accuracy_preds, in_axes=(0,None))(linearised_predictive, y_train[:n_data_pts])/n_data_pts)\n",
    "            full_acc = jnp.mean(jax.vmap(accuracy_preds, in_axes=(0,None))(predictive, y_train[:n_data_pts])/n_data_pts)\n",
    "            isotropic_acc = jnp.mean(jax.vmap(accuracy_preds, in_axes=(0,None))(isotropic_predictive, y_train[:n_data_pts])/n_data_pts)\n",
    "        else:\n",
    "            lr_acc = accuracy_preds(lr_predictive.mean(axis=0), y_train[:n_data_pts])/ n_data_pts \n",
    "            linearised_acc = accuracy_preds(linearised_predictive.mean(axis=0), y_train[:n_data_pts])/ n_data_pts \n",
    "            full_acc = accuracy_preds(predictive.mean(axis=0), y_train[:n_data_pts])/ n_data_pts \n",
    "            isotropic_acc = accuracy_preds(isotropic_predictive.mean(axis=0), y_train[:n_data_pts])/ n_data_pts\n",
    "        return map_acc, lr_acc, linearised_acc, full_acc, isotropic_acc\n",
    "        \n",
    "    else:\n",
    "        N_val = 1000\n",
    "        lr_predictive = sample_predictive(lr_posterior_samples, params, model, x_val[:N_val], False, \"Pytree\")\n",
    "        predictive = sample_predictive(posterior_samples, params, model, x_val[:N_val], False, \"Pytree\")\n",
    "        linearised_predictive = sample_predictive(posterior_samples, params, model, x_val[:N_val], True, \"Pytree\")\n",
    "        isotropic_predictive = sample_predictive(isotropic_posterior_samples, params, model, x_val[:N_val], False, \"Pytree\")\n",
    "        map_acc = accuracy(params, model, x_train[:n_data_pts], y_train[:n_data_pts])/n_data_pts\n",
    "        if mean_acc:\n",
    "            lr_acc = jnp.mean(jax.vmap(accuracy_preds, in_axes=(0,None))(lr_predictive, y_train[:N_val])/N_val)\n",
    "            linearised_acc = jnp.mean(jax.vmap(accuracy_preds, in_axes=(0,None))(linearised_predictive, y_train[:N_val])/N_val)\n",
    "            full_acc = jnp.mean(jax.vmap(accuracy_preds, in_axes=(0,None))(predictive, y_train[:N_val])/N_val)\n",
    "            isotropic_acc = jnp.mean(jax.vmap(accuracy_preds, in_axes=(0,None))(isotropic_predictive, y_train[:N_val])/N_val)\n",
    "        else:\n",
    "            lr_acc = accuracy_preds(lr_predictive.mean(axis=0), y_train[:N_val])/ N_val \n",
    "            linearised_acc = accuracy_preds(linearised_predictive.mean(axis=0), y_train[:N_val])/ N_val \n",
    "            full_acc = accuracy_preds(predictive.mean(axis=0), y_train[:N_val])/ N_val \n",
    "            isotropic_acc = accuracy_preds(isotropic_predictive.mean(axis=0), y_train[:N_val])/ N_val\n",
    "        return map_acc, lr_acc, linearised_acc, full_acc, isotropic_acc\n",
    "    \n",
    "\n",
    "    \n",
    "        "
   ]
  },
  {
   "cell_type": "code",
   "execution_count": 16,
   "metadata": {},
   "outputs": [],
   "source": [
    "n_data_pt_list = jnp.array([ 50, 75, 100, 120, 150, 200, 250, 300, 500, 1000])\n",
    "map_acc_list, lr_acc_list, linearised_acc_list, full_acc_list, isotropic_acc_list = [], [], [], [], []\n",
    "for n_data_pt in n_data_pt_list:\n",
    "    map_acc, lr_acc, linearised_acc, full_acc, isotropic_acc = rank_expt(n_data_pt)\n",
    "    map_acc_list.append(map_acc)\n",
    "    lr_acc_list.append(lr_acc)\n",
    "    linearised_acc_list.append(linearised_acc)\n",
    "    full_acc_list.append(full_acc)\n",
    "    isotropic_acc_list.append(isotropic_acc)"
   ]
  },
  {
   "cell_type": "code",
   "execution_count": 17,
   "metadata": {},
   "outputs": [
    {
     "data": {
      "text/plain": [
       "<matplotlib.legend.Legend at 0x7f8997db7820>"
      ]
     },
     "execution_count": 17,
     "metadata": {},
     "output_type": "execute_result"
    },
    {
     "data": {
      "image/png": "[encoded data removed]",
      "text/plain": [
       "<Figure size 640x480 with 1 Axes>"
      ]
     },
     "metadata": {},
     "output_type": "display_data"
    }
   ],
   "source": [
    "map_acc_list, lr_acc_list, linearised_acc_list, full_acc_list, isotropic_acc_list = jnp.array(map_acc_list), jnp.array(lr_acc_list), jnp.array(linearised_acc_list), jnp.array(full_acc_list), jnp.array(isotropic_acc_list)\n",
    "plt.plot(n_data_pt_list, lr_acc_list, label=\"Low Rank\", marker=\"o\")\n",
    "plt.plot(n_data_pt_list, linearised_acc_list, label=\"Linearised\", marker=\"o\")\n",
    "plt.plot(n_data_pt_list, full_acc_list, label=\"Sampled Laplace\", marker=\"o\")\n",
    "plt.plot(n_data_pt_list, map_acc_list, label=\"Map accuracy\", marker=\"o\")\n",
    "# plt.plot(n_data_pt_list, isotropic_acc_list, label=\"Isotropic accuracy\", marker=\"o\")\n",
    "plt.xlabel(\"Rank\")\n",
    "# plt.xticks(n_data_pt_list)\n",
    "plt.ylabel(\"Train Accuracy\")\n",
    "plt.legend()"
   ]
  },
  {
   "cell_type": "code",
   "execution_count": 50,
   "metadata": {},
   "outputs": [
    {
     "name": "stdout",
     "output_type": "stream",
     "text": [
      "MAP acc: 0.8333333\n",
      "lr acc: 0.79800004\n",
      "full acc: 0.14366667\n",
      "isotropic acc: 0.7725\n"
     ]
    }
   ],
   "source": [
    "N_val = 1000\n",
    "lr_predictive = sample_predictive(lr_posterior_samples, params, model, x_train[:30], False, \"Pytree\")\n",
    "predictive = sample_predictive(posterior_samples, params, model, x_train[:30], False, \"Pytree\")\n",
    "isotropic_predictive = sample_predictive(isotropic_posterior_samples, params, model, x_train[:30], False, \"Pytree\")\n",
    "preds = model.apply(params, x_train[:30])\n",
    "print(\"MAP acc:\", accuracy(params, model, x_train[:30], y_train[:30])/x_train[:30].shape[0])\n",
    "print(\"lr acc:\", jnp.mean(jax.vmap(accuracy_preds, in_axes=(0,None))(lr_predictive, y_train[:30])/x_train[:30].shape[0]))\n",
    "print(\"full acc:\", jnp.mean(jax.vmap(accuracy_preds, in_axes=(0,None))(predictive, y_train[:30])/x_train[:30].shape[0]))\n",
    "print(\"isotropic acc:\", jnp.mean(jax.vmap(accuracy_preds, in_axes=(0,None))(isotropic_predictive, y_train[:30])/x_train[:30].shape[0]))\n",
    "\n"
   ]
  },
  {
   "cell_type": "code",
   "execution_count": null,
   "metadata": {},
   "outputs": [],
   "source": []
  },
  {
   "cell_type": "code",
   "execution_count": 59,
   "metadata": {},
   "outputs": [
    {
     "data": {
      "text/plain": [
       "Array(0.8333333, dtype=float32)"
      ]
     },
     "execution_count": 59,
     "metadata": {},
     "output_type": "execute_result"
    }
   ],
   "source": [
    "accuracy_preds(isotropic_predictive.mean(axis=0), y_train[:30])/30"
   ]
  },
  {
   "cell_type": "code",
   "execution_count": 48,
   "metadata": {},
   "outputs": [],
   "source": [
    "N_val = 1000\n",
    "lr_predictive = sample_predictive(lr_posterior_samples, params, model, x_val[:N_val], False, \"Pytree\")\n",
    "predictive = sample_predictive(posterior_samples, params, model, x_val[:N_val], False, \"Pytree\")\n",
    "isotropic_predictive = sample_predictive(isotropic_posterior_samples, params, model, x_val[:N_val], False, \"Pytree\")\n",
    "preds = model.apply(params, x_val[:N_val])\n"
   ]
  },
  {
   "cell_type": "code",
   "execution_count": 49,
   "metadata": {},
   "outputs": [
    {
     "name": "stdout",
     "output_type": "stream",
     "text": [
      "MAP acc: 0.853\n",
      "lr acc: 0.81091\n",
      "full acc: 0.15518999\n",
      "isotropic acc: 0.78494996\n"
     ]
    }
   ],
   "source": [
    "print(\"MAP acc:\", accuracy(params, model, x_val[:N_val], y_val[:N_val])/x_val[:N_val].shape[0])\n",
    "print(\"lr acc:\", jnp.mean(jax.vmap(accuracy_preds, in_axes=(0,None))(lr_predictive, y_val[:N_val])/x_val[:N_val].shape[0]))\n",
    "print(\"full acc:\", jnp.mean(jax.vmap(accuracy_preds, in_axes=(0,None))(predictive, y_val[:N_val])/x_val[:N_val].shape[0]))\n",
    "print(\"isotropic acc:\", jnp.mean(jax.vmap(accuracy_preds, in_axes=(0,None))(isotropic_predictive, y_val[:N_val])/x_val[:N_val].shape[0]))\n"
   ]
  },
  {
   "cell_type": "code",
   "execution_count": 46,
   "metadata": {},
   "outputs": [
    {
     "name": "stdout",
     "output_type": "stream",
     "text": [
      "MAP nll: 473.9449\n",
      "lr nll: 670.9823\n",
      "full nll: 7545.1475\n",
      "isotropic nll: 685.7618\n"
     ]
    }
   ],
   "source": [
    "print(\"MAP nll:\", nll(preds, y_val[:N_val]))\n",
    "print(\"lr nll:\", nll(lr_predictive, y_val[:N_val]))\n",
    "print(\"full nll:\", nll(predictive, y_val[:N_val]))\n",
    "print(\"isotropic nll:\", nll(isotropic_predictive, y_val[:N_val]))\n"
   ]
  },
  {
   "cell_type": "code",
   "execution_count": 14,
   "metadata": {},
   "outputs": [],
   "source": [
    "lr_predictive = sample_predictive(lr_posterior_samples, params, model, x_val[:N_val], True, \"Pytree\")\n",
    "predictive = sample_predictive(posterior_samples, params, model, x_val[:N_val], True, \"Pytree\")\n",
    "isotropic_predictive = sample_predictive(isotropic_posterior_samples, params, model, x_val[:N_val], True, \"Pytree\")\n"
   ]
  },
  {
   "cell_type": "code",
   "execution_count": 15,
   "metadata": {},
   "outputs": [
    {
     "data": {
      "text/plain": [
       "(200, 1000, 10)"
      ]
     },
     "execution_count": 15,
     "metadata": {},
     "output_type": "execute_result"
    }
   ],
   "source": [
    "isotropic_predictive.shape"
   ]
  },
  {
   "cell_type": "code",
   "execution_count": 16,
   "metadata": {},
   "outputs": [
    {
     "name": "stdout",
     "output_type": "stream",
     "text": [
      "MAP acc: 0.843\n",
      "lr acc: 0.842125\n",
      "full acc: 0.812935\n",
      "isotropic acc: 0.77391493\n"
     ]
    }
   ],
   "source": [
    "print(\"MAP acc:\", accuracy(params, model, x_val[:N_val], y_val[:N_val])/x_val[:N_val].shape[0])\n",
    "print(\"lr acc:\", jnp.mean(jax.vmap(accuracy_preds, in_axes=(0,None))(lr_predictive, y_val[:N_val])/x_val[:N_val].shape[0]))\n",
    "print(\"full acc:\", jnp.mean(jax.vmap(accuracy_preds, in_axes=(0,None))(predictive, y_val[:N_val])/x_val[:N_val].shape[0]))\n",
    "print(\"isotropic acc:\", jnp.mean(jax.vmap(accuracy_preds, in_axes=(0,None))(isotropic_predictive, y_val[:N_val])/x_val[:N_val].shape[0]))\n"
   ]
  },
  {
   "cell_type": "code",
   "execution_count": 17,
   "metadata": {},
   "outputs": [
    {
     "name": "stdout",
     "output_type": "stream",
     "text": [
      "MAP nll: 537.5515\n",
      "lr nll: 540.08307\n",
      "full nll: 624.62225\n",
      "isotropic nll: 747.6211\n"
     ]
    }
   ],
   "source": [
    "print(\"MAP nll:\", nll(preds, y_val[:N_val]))\n",
    "print(\"lr nll:\", nll(lr_predictive, y_val[:N_val]))\n",
    "print(\"full nll:\", nll(predictive, y_val[:N_val]))\n",
    "print(\"isotropic nll:\", nll(isotropic_predictive, y_val[:N_val]))\n"
   ]
  },
  {
   "cell_type": "markdown",
   "metadata": {},
   "source": [
    "## OOD"
   ]
  },
  {
   "cell_type": "code",
   "execution_count": 18,
   "metadata": {},
   "outputs": [],
   "source": [
    "from src.data.datasets import (\n",
    "    get_rotated_mnist_loaders,\n",
    "    load_corrupted_cifar10,\n",
    "    get_mnist_ood_loaders,\n",
    "    get_cifar10_ood_loaders,\n",
    "    get_cifar10_train_set,\n",
    ")"
   ]
  },
  {
   "cell_type": "code",
   "execution_count": 19,
   "metadata": {},
   "outputs": [],
   "source": [
    "eval_args = {}\n",
    "eval_args[\"linearised_laplace\"] = False\n",
    "eval_args[\"posterior_sample_type\"] = \"Pytree\"\n",
    "eval_args[\"likelihood\"] = \"classification\"\n"
   ]
  },
  {
   "cell_type": "code",
   "execution_count": 52,
   "metadata": {},
   "outputs": [
    {
     "name": "stdout",
     "output_type": "stream",
     "text": [
      "R-MNIST with distribution shift intensity 0\n",
      "conf: 0.8293, nll: 297.9814, acc: 0.8140, brier: 0.2763, ece: 0.1219, mce: 0.7098\n",
      "R-MNIST with distribution shift intensity 1\n",
      "conf: 0.7904, nll: 402.6505, acc: 0.7320, brier: 0.3799, ece: 0.1402, mce: 0.6985\n",
      "R-MNIST with distribution shift intensity 2\n",
      "conf: 0.7345, nll: 886.8191, acc: 0.4980, brier: 0.7143, ece: 0.2762, mce: 0.7698\n",
      "R-MNIST with distribution shift intensity 3\n",
      "conf: 0.6773, nll: 1994.0592, acc: 0.1980, brier: 1.1895, ece: 0.4839, mce: 0.9056\n",
      "R-MNIST with distribution shift intensity 4\n",
      "conf: 0.6894, nll: 2437.9873, acc: 0.1620, brier: 1.2652, ece: 0.5363, mce: 0.9752\n",
      "R-MNIST with distribution shift intensity 5\n",
      "conf: 0.6485, nll: 2278.5176, acc: 0.1620, brier: 1.2186, ece: 0.4859, mce: 0.8357\n",
      "R-MNIST with distribution shift intensity 6\n",
      "conf: 0.6566, nll: 2078.4587, acc: 0.1760, brier: 1.1976, ece: 0.4802, mce: 0.9545\n",
      "R-MNIST with distribution shift intensity 7\n",
      "conf: 0.7467, nll: 2250.4639, acc: 0.2840, brier: 1.1244, ece: 0.4850, mce: 0.8760\n",
      "R-MNIST with distribution shift intensity 8\n",
      "conf: 0.7026, nll: 2193.2632, acc: 0.2060, brier: 1.1950, ece: 0.5045, mce: 0.8464\n",
      "R-MNIST with distribution shift intensity 9\n",
      "conf: 0.6688, nll: 2475.7488, acc: 0.0940, brier: 1.3525, ece: 0.5679, mce: 0.9546\n",
      "R-MNIST with distribution shift intensity 10\n",
      "conf: 0.6455, nll: 2425.1375, acc: 0.1180, brier: 1.2952, ece: 0.5245, mce: 0.9265\n",
      "R-MNIST with distribution shift intensity 11\n",
      "conf: 0.6277, nll: 2180.3149, acc: 0.1460, brier: 1.2035, ece: 0.4833, mce: 0.9335\n",
      "R-MNIST with distribution shift intensity 12\n",
      "conf: 0.6645, nll: 997.9722, acc: 0.4720, brier: 0.7187, ece: 0.2311, mce: 0.7249\n",
      "R-MNIST with distribution shift intensity 13\n",
      "conf: 0.7573, nll: 474.7219, acc: 0.6980, brier: 0.4231, ece: 0.1392, mce: 0.6969\n",
      "R-MNIST with distribution shift intensity 14\n",
      "conf: 0.8293, nll: 297.9814, acc: 0.8140, brier: 0.2763, ece: 0.1219, mce: 0.7098\n"
     ]
    }
   ],
   "source": [
    "from src.ood_functions.evaluate import evaluate\n",
    "from src.ood_functions.metrics import compute_metrics\n",
    "ids = [0, 15, 30, 60, 90, 120, 150, 180, 210, 240, 270, 300, 330, 345, 360]\n",
    "n_datapoint=500\n",
    "ood_batch_size = 50\n",
    "metrics = []\n",
    "for i, id in enumerate(ids):    \n",
    "    _, test_loader = get_rotated_mnist_loaders(id, data_path=\"data\", download=True, batch_size=ood_batch_size, n_datapoint=n_datapoint)\n",
    "    some_metrics, all_y_prob, all_y_true, all_y_var = evaluate(test_loader, lr_posterior_samples, params, model, eval_args)\n",
    "    if i == 0:\n",
    "        all_y_prob_in = all_y_prob\n",
    "    more_metrics = compute_metrics(\n",
    "            i, id, all_y_prob, test_loader, all_y_prob_in, all_y_var, benchmark=\"R-MNIST\"\n",
    "        )\n",
    "    metrics.append({**some_metrics, **more_metrics})\n",
    "    print(\", \".join([f\"{k}: {v:.4f}\" for k, v in metrics[-1].items()]))\n",
    "    \n"
   ]
  },
  {
   "cell_type": "code",
   "execution_count": 53,
   "metadata": {},
   "outputs": [
    {
     "name": "stdout",
     "output_type": "stream",
     "text": [
      "R-MNIST with distribution shift intensity 0\n",
      "conf: 0.8126, nll: 286.0074, acc: 0.8160, brier: 0.2681, ece: 0.1080, mce: 0.7015\n",
      "R-MNIST with distribution shift intensity 1\n",
      "conf: 0.7734, nll: 385.7637, acc: 0.7460, brier: 0.3662, ece: 0.1366, mce: 0.8287\n",
      "R-MNIST with distribution shift intensity 2\n",
      "conf: 0.7114, nll: 842.7404, acc: 0.5000, brier: 0.7018, ece: 0.2386, mce: 0.6550\n",
      "R-MNIST with distribution shift intensity 3\n",
      "conf: 0.6617, nll: 1906.2975, acc: 0.1900, brier: 1.1863, ece: 0.4762, mce: 0.8752\n",
      "R-MNIST with distribution shift intensity 4\n",
      "conf: 0.6748, nll: 2343.8108, acc: 0.1620, brier: 1.2489, ece: 0.5192, mce: 0.8548\n",
      "R-MNIST with distribution shift intensity 5\n",
      "conf: 0.6342, nll: 2185.4668, acc: 0.1640, brier: 1.1982, ece: 0.4690, mce: 0.9887\n",
      "R-MNIST with distribution shift intensity 6\n",
      "conf: 0.6332, nll: 1971.8813, acc: 0.1800, brier: 1.1739, ece: 0.4579, mce: 0.9133\n",
      "R-MNIST with distribution shift intensity 7\n",
      "conf: 0.7272, nll: 2125.1313, acc: 0.2820, brier: 1.1018, ece: 0.4448, mce: 0.8240\n",
      "R-MNIST with distribution shift intensity 8\n",
      "conf: 0.6844, nll: 2088.2256, acc: 0.1980, brier: 1.1944, ece: 0.5016, mce: 0.8848\n",
      "R-MNIST with distribution shift intensity 9\n",
      "conf: 0.6539, nll: 2327.7085, acc: 0.0980, brier: 1.3283, ece: 0.5571, mce: 0.9158\n",
      "R-MNIST with distribution shift intensity 10\n",
      "conf: 0.6328, nll: 2302.7290, acc: 0.1320, brier: 1.2758, ece: 0.5190, mce: 0.9379\n",
      "R-MNIST with distribution shift intensity 11\n",
      "conf: 0.6141, nll: 2076.3010, acc: 0.1600, brier: 1.1770, ece: 0.4531, mce: 0.9720\n",
      "R-MNIST with distribution shift intensity 12\n",
      "conf: 0.6422, nll: 972.1418, acc: 0.4580, brier: 0.7149, ece: 0.2090, mce: 0.6534\n",
      "R-MNIST with distribution shift intensity 13\n",
      "conf: 0.7300, nll: 461.4109, acc: 0.6920, brier: 0.4180, ece: 0.1220, mce: 0.7707\n",
      "R-MNIST with distribution shift intensity 14\n",
      "conf: 0.8126, nll: 286.0074, acc: 0.8160, brier: 0.2681, ece: 0.1080, mce: 0.7015\n"
     ]
    }
   ],
   "source": [
    "from src.ood_functions.evaluate import evaluate\n",
    "# from src.ood_functions.metrics import compute_metrics\n",
    "ids = [0, 15, 30, 60, 90, 120, 150, 180, 210, 240, 270, 300, 330, 345, 360]\n",
    "n_datapoint=500\n",
    "ood_batch_size = 50\n",
    "metrics = []\n",
    "for i, id in enumerate(ids):    \n",
    "    _, test_loader = get_rotated_mnist_loaders(id, data_path=\"data\", download=True, batch_size=ood_batch_size, n_datapoint=n_datapoint)\n",
    "    some_metrics, all_y_prob, all_y_true, all_y_var = evaluate(test_loader, posterior_samples, params, model, eval_args)\n",
    "    if i == 0:\n",
    "        all_y_prob_in = all_y_prob\n",
    "    more_metrics = compute_metrics(\n",
    "            i, id, all_y_prob, test_loader, all_y_prob_in, all_y_var, benchmark=\"R-MNIST\"\n",
    "        )\n",
    "    metrics.append({**some_metrics, **more_metrics})\n",
    "    print(\", \".join([f\"{k}: {v:.4f}\" for k, v in metrics[-1].items()]))\n",
    "    \n"
   ]
  },
  {
   "cell_type": "markdown",
   "metadata": {},
   "source": [
    "### Lanczos diffusion"
   ]
  },
  {
   "cell_type": "code",
   "execution_count": 59,
   "metadata": {},
   "outputs": [],
   "source": [
    "n_steps = 2\n",
    "n_samples = 50\n",
    "alpha = 10.0\n",
    "rank = 10\n",
    "nonker_posterior_samples = lanczos_diffusion(cross_entropy_loss, model.apply, params,n_steps,n_samples,alpha,sample_key,n_params,rank,x_train,y_train,1.0,\"non-kernel-eigvals\")"
   ]
  },
  {
   "cell_type": "code",
   "execution_count": 63,
   "metadata": {},
   "outputs": [],
   "source": [
    "nonker_predictive = sample_predictive(nonker_posterior_samples, params, model, x_val[:N_val], False, \"Pytree\")\n",
    "preds = model.apply(params, x_val[:N_val])\n"
   ]
  },
  {
   "cell_type": "code",
   "execution_count": 64,
   "metadata": {},
   "outputs": [
    {
     "name": "stdout",
     "output_type": "stream",
     "text": [
      "MAP acc: 0.832\n",
      "nonker acc: 0.83283997\n",
      "MAP nll: 520.5774\n",
      "nonker nll: 522.54913\n"
     ]
    }
   ],
   "source": [
    "print(\"MAP acc:\", accuracy(params, model, x_val[:N_val], y_val[:N_val])/x_val[:N_val].shape[0])\n",
    "print(\"nonker acc:\", jnp.mean(jax.vmap(accuracy_preds, in_axes=(0,None))(nonker_predictive, y_val[:N_val])/x_val[:N_val].shape[0]))\n",
    "print(\"MAP nll:\", nll(preds, y_val[:N_val]))\n",
    "print(\"nonker nll:\", nll(nonker_predictive, y_val[:N_val]))\n",
    "\n"
   ]
  },
  {
   "cell_type": "markdown",
   "metadata": {},
   "source": [
    "### ODE"
   ]
  },
  {
   "cell_type": "markdown",
   "metadata": {},
   "source": []
  }
 ],
 "metadata": {
  "kernelspec": {
   "display_name": "geom",
   "language": "python",
   "name": "python3"
  },
  "language_info": {
   "codemirror_mode": {
    "name": "ipython",
    "version": 3
   },
   "file_extension": ".py",
   "mimetype": "text/x-python",
   "name": "python",
   "nbconvert_exporter": "python",
   "pygments_lexer": "ipython3",
   "version": "3.9.11"
  }
 },
 "nbformat": 4,
 "nbformat_minor": 2
}
