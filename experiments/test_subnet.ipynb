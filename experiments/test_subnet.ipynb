{
 "cells": [
  {
   "cell_type": "code",
   "execution_count": 1,
   "metadata": {},
   "outputs": [],
   "source": [
    "import jax\n",
    "import jax.numpy as jnp"
   ]
  },
  {
   "cell_type": "code",
   "execution_count": 74,
   "metadata": {},
   "outputs": [],
   "source": [
    "key = jax.random.PRNGKey(0)\n",
    "n_params = 100\n",
    "params_vec = jax.random.normal(key, (n_params,))\n",
    "mask = jax.random.normal(key, (n_params,))\n",
    "def model(params):\n",
    "    return jnp.sum(params)\n",
    "    # subnet = jax.lax.top_k(jax.nn.softmax(params), k=10)[0]\n",
    "    # return jnp.sum(subnet)\n",
    "\n",
    "def subnet(mask, params, k=10):\n",
    "    subnet_params = params * jax.nn.softmax(mask)\n",
    "    other_params = params * (1 - jax.nn.softmax(mask))\n",
    "    other_params = jax.lax.stop_gradient(other_params)\n",
    "    return model(subnet_params + other_params)"
   ]
  },
  {
   "cell_type": "code",
   "execution_count": 78,
   "metadata": {},
   "outputs": [
    {
     "data": {
      "text/plain": [
       "Array(8.212992, dtype=float32)"
      ]
     },
     "execution_count": 78,
     "metadata": {},
     "output_type": "execute_result"
    }
   ],
   "source": [
    "subnet(params_vec, mask)"
   ]
  },
  {
   "cell_type": "code",
   "execution_count": 79,
   "metadata": {},
   "outputs": [
    {
     "data": {
      "text/plain": [
       "Array(8.212992, dtype=float32)"
      ]
     },
     "execution_count": 79,
     "metadata": {},
     "output_type": "execute_result"
    }
   ],
   "source": [
    "model(params_vec)"
   ]
  },
  {
   "cell_type": "code",
   "execution_count": 75,
   "metadata": {},
   "outputs": [
    {
     "data": {
      "text/plain": [
       "Array([1., 1., 1., 1., 1., 1., 1., 1., 1., 1., 1., 1., 1., 1., 1., 1., 1.,\n",
       "       1., 1., 1., 1., 1., 1., 1., 1., 1., 1., 1., 1., 1., 1., 1., 1., 1.,\n",
       "       1., 1., 1., 1., 1., 1., 1., 1., 1., 1., 1., 1., 1., 1., 1., 1., 1.,\n",
       "       1., 1., 1., 1., 1., 1., 1., 1., 1., 1., 1., 1., 1., 1., 1., 1., 1.,\n",
       "       1., 1., 1., 1., 1., 1., 1., 1., 1., 1., 1., 1., 1., 1., 1., 1., 1.,\n",
       "       1., 1., 1., 1., 1., 1., 1., 1., 1., 1., 1., 1., 1., 1., 1.],      dtype=float32)"
      ]
     },
     "execution_count": 75,
     "metadata": {},
     "output_type": "execute_result"
    }
   ],
   "source": [
    "jax.jacobian(model)(params_vec)"
   ]
  },
  {
   "cell_type": "code",
   "execution_count": 77,
   "metadata": {},
   "outputs": [
    {
     "data": {
      "text/plain": [
       "Array([-0.00239839,  0.00218263, -0.00044763, -0.00549583, -0.00434076,\n",
       "       -0.00097209, -0.00549857, -0.00531801, -0.00550981, -0.00527788,\n",
       "       -0.00375996, -0.003722  ,  0.00107607, -0.00153689, -0.00529077,\n",
       "        0.00084627, -0.00484503, -0.00464658, -0.00241067, -0.00535627,\n",
       "       -0.00503356,  0.01949507, -0.00506478, -0.00320252, -0.00547537,\n",
       "       -0.00466237, -0.00548037, -0.00481282, -0.00304566, -0.00268466,\n",
       "        0.00204134, -0.0024138 , -0.00553483, -0.0034703 , -0.00532534,\n",
       "       -0.0049394 , -0.00507513, -0.00321392, -0.00065511, -0.00464129,\n",
       "       -0.00475285, -0.0052299 , -0.0053873 ,  0.00556816,  0.02801784,\n",
       "        0.00109676, -0.00552725, -0.00385907, -0.00432169,  0.00095799,\n",
       "       -0.00522872, -0.0042306 ,  0.02544134, -0.00527138, -0.00503143,\n",
       "       -0.00531495, -0.00548444,  0.05548716, -0.00534412, -0.00483855,\n",
       "       -0.0042225 ,  0.02990714, -0.00553267,  0.00618682, -0.00385848,\n",
       "        0.02178323, -0.00436594, -0.00552285, -0.0053798 ,  0.02327904,\n",
       "       -0.00516595, -0.003844  ,  0.00435123, -0.00508287, -0.00509905,\n",
       "       -0.00472815, -0.00544463,  0.03014119, -0.00344019, -0.00546964,\n",
       "        0.00275059, -0.0047342 , -0.00553501, -0.00519628, -0.00551667,\n",
       "       -0.00553099, -0.00548522, -0.00328446, -0.00418339, -0.00446428,\n",
       "       -0.00347876, -0.00288236, -0.00462593, -0.00553498, -0.00325083,\n",
       "       -0.00476543, -0.00469447,  0.09179231,  0.00477907, -0.00548066],      dtype=float32)"
      ]
     },
     "execution_count": 77,
     "metadata": {},
     "output_type": "execute_result"
    }
   ],
   "source": [
    "jax.jacobian(subnet, argnums=0)(mask, params_vec, 10)"
   ]
  },
  {
   "cell_type": "code",
   "execution_count": 43,
   "metadata": {},
   "outputs": [
    {
     "data": {
      "text/plain": [
       "Array([0.15037847, 0.09958701, 0.06265382, 0.06230341, 0.05946638,\n",
       "       0.05557143, 0.05227708, 0.0499831 , 0.0464476 , 0.02494846],      dtype=float32)"
      ]
     },
     "execution_count": 43,
     "metadata": {},
     "output_type": "execute_result"
    }
   ],
   "source": [
    "params_vec * jax.nn.softmax(mask)\n",
    "\n",
    "jax.lax.top_k(params_vec * jax.nn.softmax(mask), k=10)[0]"
   ]
  },
  {
   "cell_type": "code",
   "execution_count": 46,
   "metadata": {},
   "outputs": [],
   "source": [
    "idx = jax.lax.top_k(jax.nn.softmax(mask), k=10)[1]"
   ]
  },
  {
   "cell_type": "code",
   "execution_count": 64,
   "metadata": {},
   "outputs": [],
   "source": [
    "idx = jax.nn.softmax(mask) > jax.lax.top_k(jax.nn.softmax(mask), k=10)[0][-1]\n",
    "params_small = jnp.where(idx, params_vec, 0)\n",
    "params_rest = jnp.where(1 - idx, params_vec, 0)\n"
   ]
  },
  {
   "cell_type": "code",
   "execution_count": 66,
   "metadata": {},
   "outputs": [
    {
     "data": {
      "text/plain": [
       "Array([0.       , 0.       , 0.       , 0.       , 0.       , 0.       ,\n",
       "       0.       , 0.       , 0.       , 0.       , 0.       , 0.       ,\n",
       "       0.       , 0.       , 0.       , 0.       , 0.       , 0.       ,\n",
       "       0.       , 0.       , 0.       , 1.5863018, 0.       , 0.       ,\n",
       "       0.       , 0.       , 0.       , 0.       , 0.       , 0.       ,\n",
       "       0.       , 0.       , 0.       , 0.       , 0.       , 0.       ,\n",
       "       0.       , 0.       , 0.       , 0.       , 0.       , 0.       ,\n",
       "       0.       , 0.       , 1.7405769, 0.       , 0.       , 0.       ,\n",
       "       0.       , 0.       , 0.       , 0.       , 1.6977485, 0.       ,\n",
       "       0.       , 0.       , 0.       , 2.0786808, 0.       , 0.       ,\n",
       "       0.       , 1.7702677, 0.       , 0.       , 0.       , 1.6315418,\n",
       "       0.       , 0.       , 0.       , 1.6594526, 0.       , 0.       ,\n",
       "       0.       , 0.       , 0.       , 0.       , 0.       , 1.7738531,\n",
       "       0.       , 0.       , 0.       , 0.       , 0.       , 0.       ,\n",
       "       0.       , 0.       , 0.       , 0.       , 0.       , 0.       ,\n",
       "       0.       , 0.       , 0.       , 0.       , 0.       , 0.       ,\n",
       "       0.       , 2.3627229, 0.       , 0.       ], dtype=float32)"
      ]
     },
     "execution_count": 66,
     "metadata": {},
     "output_type": "execute_result"
    }
   ],
   "source": [
    "params_small"
   ]
  },
  {
   "cell_type": "code",
   "execution_count": 53,
   "metadata": {},
   "outputs": [
    {
     "data": {
      "text/plain": [
       "Array([2.3627229], dtype=float32)"
      ]
     },
     "execution_count": 53,
     "metadata": {},
     "output_type": "execute_result"
    }
   ],
   "source": [
    "jax.lax.index_in_dim(params_vec, idx[0])"
   ]
  },
  {
   "cell_type": "code",
   "execution_count": 49,
   "metadata": {},
   "outputs": [
    {
     "data": {
      "text/plain": [
       "(100,)"
      ]
     },
     "execution_count": 49,
     "metadata": {},
     "output_type": "execute_result"
    }
   ],
   "source": [
    "params_vec.shape"
   ]
  },
  {
   "cell_type": "code",
   "execution_count": 45,
   "metadata": {},
   "outputs": [
    {
     "data": {
      "text/plain": [
       "Array(2.3627229, dtype=float32)"
      ]
     },
     "execution_count": 45,
     "metadata": {},
     "output_type": "execute_result"
    }
   ],
   "source": [
    "params_vec[97]"
   ]
  },
  {
   "cell_type": "code",
   "execution_count": 39,
   "metadata": {},
   "outputs": [
    {
     "data": {
      "text/plain": [
       "Array(0.3607679, dtype=float32)"
      ]
     },
     "execution_count": 39,
     "metadata": {},
     "output_type": "execute_result"
    }
   ],
   "source": [
    "    \n",
    "model(params_vec)"
   ]
  },
  {
   "cell_type": "code",
   "execution_count": 41,
   "metadata": {},
   "outputs": [
    {
     "data": {
      "text/plain": [
       "Array([-0.00029821, -0.00616735, -0.00526413, -0.00223952, -0.0008384 ,\n",
       "       -0.005065  , -0.00223076, -0.00146435, -0.00219088, -0.00141988,\n",
       "       -0.00062973, -0.00061796, -0.00580364, -0.00484066, -0.00143371,\n",
       "       -0.00572543, -0.00108675, -0.00097828, -0.00030054, -0.00252562,\n",
       "       -0.00120954,  0.01871699, -0.00287492, -0.00409321, -0.00229743,\n",
       "       -0.00321893, -0.00172268, -0.00106792, -0.00417103, -0.00035522,\n",
       "       -0.006122  , -0.00030114, -0.00201749, -0.00395534, -0.00147296,\n",
       "       -0.00299252, -0.00286463, -0.00047665, -0.00518631, -0.00097561,\n",
       "       -0.00314896, -0.00137156, -0.00247586, -0.00718041,  0.02183921,\n",
       "       -0.00581063, -0.00210435, -0.00066139, -0.00083051, -0.00576358,\n",
       "       -0.00269724, -0.00351711,  0.02092362, -0.00264431, -0.00120801,\n",
       "       -0.00146082, -0.00227317,  0.03062482, -0.00254399, -0.00108292,\n",
       "       -0.00352226,  0.02249735, -0.00205662,  0.01302888, -0.00374186,\n",
       "        0.0195832 , -0.00342888, -0.00186539, -0.00154289,  0.02013748,\n",
       "       -0.00131347, -0.00375016, -0.00683059, -0.00285685, -0.00284043,\n",
       "       -0.0010208 , -0.00236871,  0.02257816, -0.00053612, -0.00231184,\n",
       "       -0.00634676, -0.00316366, -0.00198413, -0.00134023, -0.00183608,\n",
       "       -0.00207457, -0.00173482, -0.00405173, -0.00077575, -0.00336205,\n",
       "       -0.00054678, -0.00039796, -0.00096792, -0.0019825 , -0.00406883,\n",
       "       -0.00104115, -0.00100293,  0.04068473, -0.00695518, -0.0017234 ],      dtype=float32)"
      ]
     },
     "execution_count": 41,
     "metadata": {},
     "output_type": "execute_result"
    }
   ],
   "source": [
    "jax.jacobian(model)(params_vec)"
   ]
  },
  {
   "cell_type": "code",
   "execution_count": 12,
   "metadata": {},
   "outputs": [
    {
     "data": {
      "text/plain": [
       "Array([0.06364626, 0.04790876, 0.03532075, 0.03519434, 0.03416475,\n",
       "       0.03273243, 0.0315026 , 0.0306355 , 0.02928043, 0.02038208],      dtype=float32)"
      ]
     },
     "execution_count": 12,
     "metadata": {},
     "output_type": "execute_result"
    }
   ],
   "source": [
    "jax.lax.approx_max_k(jax.nn.softmax(mask), k=10)[0]"
   ]
  },
  {
   "cell_type": "code",
   "execution_count": null,
   "metadata": {},
   "outputs": [],
   "source": []
  }
 ],
 "metadata": {
  "kernelspec": {
   "display_name": "geom",
   "language": "python",
   "name": "python3"
  },
  "language_info": {
   "codemirror_mode": {
    "name": "ipython",
    "version": 3
   },
   "file_extension": ".py",
   "mimetype": "text/x-python",
   "name": "python",
   "nbconvert_exporter": "python",
   "pygments_lexer": "ipython3",
   "version": "3.9.18"
  }
 },
 "nbformat": 4,
 "nbformat_minor": 2
}
